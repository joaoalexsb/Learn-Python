{
  "nbformat": 4,
  "nbformat_minor": 0,
  "metadata": {
    "colab": {
      "name": "Learn Python",
      "provenance": [],
      "toc_visible": true,
      "authorship_tag": "ABX9TyMUGOUEL810hKvVlZhiVnZh",
      "include_colab_link": true
    },
    "kernelspec": {
      "name": "python3",
      "display_name": "Python 3"
    }
  },
  "cells": [
    {
      "cell_type": "markdown",
      "metadata": {
        "id": "view-in-github",
        "colab_type": "text"
      },
      "source": [
        "<a href=\"https://colab.research.google.com/github/joaoalexsb/Learn-Python/blob/master/Learn_Python.ipynb\" target=\"_parent\"><img src=\"https://colab.research.google.com/assets/colab-badge.svg\" alt=\"Open In Colab\"/></a>"
      ]
    },
    {
      "cell_type": "markdown",
      "metadata": {
        "id": "PZ8elvjnBL_Z",
        "colab_type": "text"
      },
      "source": [
        "# Learn Python\n",
        "\n",
        "Python Course resume from [Learn Python - Full Course for Beginners [Tutorial]](https://www.youtube.com/watch?v=rfscVS0vtbw&t=8064s)"
      ]
    },
    {
      "cell_type": "markdown",
      "metadata": {
        "id": "lvkU324HBoGk",
        "colab_type": "text"
      },
      "source": [
        "## Summary"
      ]
    },
    {
      "cell_type": "markdown",
      "metadata": {
        "id": "2Wv23xGyPSbL",
        "colab_type": "text"
      },
      "source": [
        "1. Variables & Data Types\n",
        "2. Strings\n",
        "3. Numbers\n",
        "4. Input\n",
        "5. Lists\n",
        "6. Tuples\n",
        "7. Functions\n",
        "8. If Statements\n",
        "9. Comparisons\n",
        "10. Dictionaries\n",
        "11. While Loop\n",
        "12. For Loops"
      ]
    },
    {
      "cell_type": "markdown",
      "metadata": {
        "id": "wQKaUeScE3u8",
        "colab_type": "text"
      },
      "source": [
        "## 10. Dictionaries"
      ]
    },
    {
      "cell_type": "markdown",
      "metadata": {
        "id": "f1HfZCOWIbMT",
        "colab_type": "text"
      },
      "source": [
        "[Link to w3schools](https://www.w3schools.com/python/python_dictionaries.asp)\n",
        "\n",
        "A dictionary is a collection which is unordered, changeable and indexed. In Python dictionaries are written with curly brackets, and they have keys and values.\n",
        "\n",
        "Create a dictionary:\n",
        "```\n",
        "name_of_dictionary = {\"key\": \"value\"}\n",
        "```\n",
        "Print a dictionary\n",
        "```\n",
        "print(dictionary)\n",
        "\n",
        "print(dictionary[\"key\"])\n",
        "\n",
        "print(dictionary.get(\"key\", \"default value\"))\n",
        "```\n",
        "\n",
        "\n",
        "Accessing Items\n",
        "```\n",
        "x = dictionary[\"key\"]\n",
        "```\n",
        "\n",
        "\n",
        "Change Values\n",
        "```\n",
        "dictionary[\"age\"] = 22\n",
        "```\n",
        "\n",
        "\n"
      ]
    },
    {
      "cell_type": "code",
      "metadata": {
        "id": "VTyFiKG7BH5T",
        "colab_type": "code",
        "colab": {
          "base_uri": "https://localhost:8080/",
          "height": 0
        },
        "outputId": "a9915033-2f4a-4e60-e3b0-fc55636f20df"
      },
      "source": [
        "# DICTIONARIES\n",
        "\n",
        "# name_of_dictionary = {\"key\": \"value\"}\n",
        "\n",
        "dictionary = {\n",
        "    \"name\": \"John\",\n",
        "    \"age\": \"21\",\n",
        "    \"sex\": \"male\"\n",
        "}\n",
        "\n",
        "# Print the value of a key\n",
        "print(dictionary[\"name\"])\n",
        "\n",
        "print(dictionary.get(\"birth\", \"default value\"))\n",
        "\n",
        "# Change Values\n",
        "dictionary[\"age\"] = 22\n",
        "\n",
        "# Print the dictionary\n",
        "print(dictionary)"
      ],
      "execution_count": 15,
      "outputs": [
        {
          "output_type": "stream",
          "text": [
            "John\n",
            "default value\n",
            "{'name': 'John', 'age': 22, 'sex': 'male'}\n"
          ],
          "name": "stdout"
        }
      ]
    },
    {
      "cell_type": "markdown",
      "metadata": {
        "id": "EW0cjk4RIyXK",
        "colab_type": "text"
      },
      "source": [
        "## 11. While Loop"
      ]
    },
    {
      "cell_type": "markdown",
      "metadata": {
        "id": "iJmQyf7mJXUS",
        "colab_type": "text"
      },
      "source": [
        "With the while loop we can execute a set of statements as long as a condition is true.\n",
        "\n",
        "\n",
        "\n",
        "```\n",
        "i = 1          \n",
        "while condition:  \n",
        "  do something    \n",
        "  i += 1\n",
        "```\n",
        "\n"
      ]
    },
    {
      "cell_type": "code",
      "metadata": {
        "id": "_0XnSnRuJM9H",
        "colab_type": "code",
        "colab": {
          "base_uri": "https://localhost:8080/",
          "height": 0
        },
        "outputId": "6205bc9c-d971-4060-ede6-86ce556d2e31"
      },
      "source": [
        "# WHILE LOOP\n",
        "\n",
        "i = 1          # defining i\n",
        "while i < 6:   # condition\n",
        "  print(i)     # do something\n",
        "  i += 1       # add 1 to i"
      ],
      "execution_count": 16,
      "outputs": [
        {
          "output_type": "stream",
          "text": [
            "1\n",
            "2\n",
            "3\n",
            "4\n",
            "5\n"
          ],
          "name": "stdout"
        }
      ]
    },
    {
      "cell_type": "code",
      "metadata": {
        "id": "E1OlPGWcKt6j",
        "colab_type": "code",
        "colab": {
          "base_uri": "https://localhost:8080/",
          "height": 0
        },
        "outputId": "4ddde4fd-fa64-41c3-f8a2-bce30584007c"
      },
      "source": [
        "# GUESS WORD GAME\n",
        "\n",
        "# Defining variables\n",
        "secret = \"word\"\n",
        "guess = \"\"\n",
        "guess_count = 0\n",
        "guess_limit = 3\n",
        "out_of_guesses = False\n",
        "\n",
        "# Loop to try guesses\n",
        "while guess != secret and not (out_of_guesses):  # while secret is diferent to guess and there is other chances loop  \n",
        "  if guess_count < guess_limit:\n",
        "    guess = input(\"Enter guess: \")\n",
        "    guess_count += 1\n",
        "  else:\n",
        "    out_of_guesses = True\n",
        "\n",
        "# Mensage of win or lose\n",
        "if out_of_guesses:\n",
        "  print(\"You lose\")\n",
        "else:\n",
        "  print(\"You win!\")"
      ],
      "execution_count": 28,
      "outputs": [
        {
          "output_type": "stream",
          "text": [
            "Enter guess: wo\n",
            "Enter guess: wor\n",
            "Enter guess: word\n",
            "You win!\n"
          ],
          "name": "stdout"
        }
      ]
    },
    {
      "cell_type": "markdown",
      "metadata": {
        "id": "o10dF8prOePr",
        "colab_type": "text"
      },
      "source": [
        "## 12. For Loop"
      ]
    },
    {
      "cell_type": "code",
      "metadata": {
        "id": "PeIC-r7VOkZl",
        "colab_type": "code",
        "colab": {
          "base_uri": "https://localhost:8080/",
          "height": 255
        },
        "outputId": "75b21877-3443-4212-c6da-1ed57a41d844"
      },
      "source": [
        "# FOR LOOP\n",
        "\n",
        "data = [1,2,3]\n",
        "friends = [\"Theo\", \"Maria\", \"Silvio\"]\n",
        "\n",
        "# Loop using array\n",
        "for i in data:\n",
        "  print(i)\n",
        "\n",
        "# Loop using a string\n",
        "for i in \"John\":\n",
        "  print(i)\n",
        "\n",
        "# Loop using lenght of array\n",
        "for i in range(len(friends)):\n",
        "  print(friends[i])\n",
        "\n",
        "# Loop using range\n",
        "for i in range(4):\n",
        "  print(i)"
      ],
      "execution_count": 45,
      "outputs": [
        {
          "output_type": "stream",
          "text": [
            "1\n",
            "2\n",
            "3\n",
            "J\n",
            "o\n",
            "h\n",
            "n\n",
            "Theo\n",
            "Maria\n",
            "Silvio\n",
            "0\n",
            "1\n",
            "2\n",
            "3\n"
          ],
          "name": "stdout"
        }
      ]
    },
    {
      "cell_type": "code",
      "metadata": {
        "id": "Joo9g6h2S8c0",
        "colab_type": "code",
        "colab": {
          "base_uri": "https://localhost:8080/",
          "height": 34
        },
        "outputId": "e2dc203d-7921-4709-c139-4a186f1be04d"
      },
      "source": [
        "# Example of for loop using a function\n",
        "\n",
        "def raise_to_power(base_num, pow_num):\n",
        "  result = 1\n",
        "  for i in range(pow_num):\n",
        "    result = result * base_num\n",
        "  return print(result)\n",
        "\n",
        "raise_to_power(10, 4)"
      ],
      "execution_count": 59,
      "outputs": [
        {
          "output_type": "stream",
          "text": [
            "10000\n"
          ],
          "name": "stdout"
        }
      ]
    },
    {
      "cell_type": "markdown",
      "metadata": {
        "id": "okDpeaqyWjHE",
        "colab_type": "text"
      },
      "source": [
        "## Other Contents"
      ]
    },
    {
      "cell_type": "markdown",
      "metadata": {
        "id": "1EpD2cjAVF71",
        "colab_type": "text"
      },
      "source": [
        "### 2D Lists and Nested For Loops"
      ]
    },
    {
      "cell_type": "code",
      "metadata": {
        "id": "mYA6gJWbVKyf",
        "colab_type": "code",
        "colab": {
          "base_uri": "https://localhost:8080/",
          "height": 204
        },
        "outputId": "04c73b3e-ccb2-41df-97fc-cc62779224f9"
      },
      "source": [
        "# 2D LISTS AND NESTED FOR LOOPS\n",
        "\n",
        "number_grid = [\n",
        "           [1, 2, 3],  # row 1\n",
        "           [4, 5, 6],  # row 2\n",
        "           [7, 8, 9],  # row 3\n",
        "           [0]         # row 4\n",
        "]\n",
        "\n",
        "print(number_grid[0][0])\n",
        "\n",
        "for row in number_grid:\n",
        "  for col in row:\n",
        "    print(col)"
      ],
      "execution_count": 66,
      "outputs": [
        {
          "output_type": "stream",
          "text": [
            "1\n",
            "1\n",
            "2\n",
            "3\n",
            "4\n",
            "5\n",
            "6\n",
            "7\n",
            "8\n",
            "9\n",
            "0\n"
          ],
          "name": "stdout"
        }
      ]
    },
    {
      "cell_type": "markdown",
      "metadata": {
        "id": "k8wV_-T4WqG9",
        "colab_type": "text"
      },
      "source": [
        "### Build Translator"
      ]
    },
    {
      "cell_type": "code",
      "metadata": {
        "id": "z_mGL-viWfWB",
        "colab_type": "code",
        "colab": {
          "base_uri": "https://localhost:8080/",
          "height": 51
        },
        "outputId": "cb7e444b-f115-4066-fd1a-d789b2969613"
      },
      "source": [
        "def translate(phrase):\n",
        "  translation = \"\"\n",
        "  for letter in phrase:\n",
        "    if letter in \"AEIOUaeiou\":\n",
        "      translation = translation + \"g\"\n",
        "    else:\n",
        "      translation = translation + letter\n",
        "  return translation\n",
        "\n",
        "print(translate(input(\"Enter a phrase: \")))"
      ],
      "execution_count": 71,
      "outputs": [
        {
          "output_type": "stream",
          "text": [
            "Enter a phrase: Hello, my name is john\n",
            "Hgllg, my ngmg gs jghn\n"
          ],
          "name": "stdout"
        }
      ]
    }
  ]
}