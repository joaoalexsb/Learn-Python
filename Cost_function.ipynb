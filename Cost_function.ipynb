{
  "nbformat": 4,
  "nbformat_minor": 0,
  "metadata": {
    "colab": {
      "name": "Cost function",
      "provenance": [],
      "toc_visible": true,
      "include_colab_link": true
    },
    "kernelspec": {
      "name": "python3",
      "display_name": "Python 3"
    }
  },
  "cells": [
    {
      "cell_type": "markdown",
      "metadata": {
        "id": "view-in-github",
        "colab_type": "text"
      },
      "source": [
        "<a href=\"https://colab.research.google.com/github/joaoalexsb/Learn-Python/blob/master/Cost_function.ipynb\" target=\"_parent\"><img src=\"https://colab.research.google.com/assets/colab-badge.svg\" alt=\"Open In Colab\"/></a>"
      ]
    },
    {
      "cell_type": "markdown",
      "metadata": {
        "id": "MnBSUm_ygxKX",
        "colab_type": "text"
      },
      "source": [
        "# Cost Function\n",
        "##Example 1\n",
        "Using the cost function in python to evaluate de cost of an example in [Beginner Intro to Neural Networks 7: Slope of Cost](https://www.youtube.com/watch?v=EnGmg-kvpYs)"
      ]
    },
    {
      "cell_type": "markdown",
      "metadata": {
        "id": "y7jDqX3yhbj0",
        "colab_type": "text"
      },
      "source": [
        "Defining the cost function:"
      ]
    },
    {
      "cell_type": "code",
      "metadata": {
        "id": "XhLELWXgf15h",
        "colab_type": "code",
        "colab": {}
      },
      "source": [
        "def cost (b):\n",
        "  return (b - 4) ** 2"
      ],
      "execution_count": 0,
      "outputs": []
    },
    {
      "cell_type": "markdown",
      "metadata": {
        "id": "D-Bh42aEhSmc",
        "colab_type": "text"
      },
      "source": [
        "Defining the slope of the curve in the cost function:"
      ]
    },
    {
      "cell_type": "code",
      "metadata": {
        "id": "zLiNbu5egDkZ",
        "colab_type": "code",
        "colab": {}
      },
      "source": [
        "def num_slope(b):\n",
        "  h = 0.0001\n",
        "  return (cost(b + h) - cost(b))/h"
      ],
      "execution_count": 0,
      "outputs": []
    },
    {
      "cell_type": "markdown",
      "metadata": {
        "id": "BRRGS0QehoB4",
        "colab_type": "text"
      },
      "source": [
        "If b is smaller than the real value (in this case 4) the slope is positive, and if it is bigger, the slope will be a negative number."
      ]
    },
    {
      "cell_type": "code",
      "metadata": {
        "id": "QlnFRqbGggHy",
        "colab_type": "code",
        "outputId": "a8263b66-2da6-4626-e6bd-9a711a421d99",
        "colab": {
          "base_uri": "https://localhost:8080/",
          "height": 51
        }
      },
      "source": [
        "print(num_slope (10))\n",
        "print(num_slope (2))"
      ],
      "execution_count": 0,
      "outputs": [
        {
          "output_type": "stream",
          "text": [
            "12.000099999980307\n",
            "-3.999900000009049\n"
          ],
          "name": "stdout"
        }
      ]
    },
    {
      "cell_type": "markdown",
      "metadata": {
        "id": "qoz6hSxUijp-",
        "colab_type": "text"
      },
      "source": [
        "There is a simple way to find the slope of the cost function. We can use the derivative to find it. So we use the chain rule bellow to find the derivative of our cost function:"
      ]
    },
    {
      "cell_type": "code",
      "metadata": {
        "id": "HtQkqEvqgtE8",
        "colab_type": "code",
        "colab": {}
      },
      "source": [
        "def slope(b):\n",
        "  return 2 * (b - 4)"
      ],
      "execution_count": 0,
      "outputs": []
    },
    {
      "cell_type": "markdown",
      "metadata": {
        "id": "8l5BFN6ejQWW",
        "colab_type": "text"
      },
      "source": [
        "Testing the slope again:"
      ]
    },
    {
      "cell_type": "code",
      "metadata": {
        "id": "SaUUPiB4jL3U",
        "colab_type": "code",
        "outputId": "e99101cb-4251-470a-bdf0-abc416b94633",
        "colab": {
          "base_uri": "https://localhost:8080/",
          "height": 68
        }
      },
      "source": [
        "print(\"derivative of slope(5) =\", slope (5)) # a number greater than 4, returns a positive slope (like this /)\n",
        "print(\"derivative of slope(4) =\",slope (4)) # a number equals to 4, returns a null slope (like this -)\n",
        "print(\"derivative of slope(3) =\",slope (3)) # a number less than 4, returns a negative slope (like this \\)"
      ],
      "execution_count": 0,
      "outputs": [
        {
          "output_type": "stream",
          "text": [
            "derivative of slope(5) = 2\n",
            "derivative of slope(4) = 0\n",
            "derivative of slope(3) = -2\n"
          ],
          "name": "stdout"
        }
      ]
    },
    {
      "cell_type": "markdown",
      "metadata": {
        "id": "SzVTr2y3lZ2E",
        "colab_type": "text"
      },
      "source": [
        "Alpha is a parameter that multiply the slope (derivative) to take our cost function do the direction of 0 (minimize it).\n",
        "![cost function](https://drive.google.com/file/d/1p-x1vOOgFK1MxSWRi4lr2zckJSSG-3Pf/view?usp=sharing)\n",
        "\n"
      ]
    },
    {
      "cell_type": "code",
      "metadata": {
        "id": "PyPyefDVjNZd",
        "colab_type": "code",
        "colab": {}
      },
      "source": [
        "alpha = 0.1"
      ],
      "execution_count": 0,
      "outputs": []
    },
    {
      "cell_type": "markdown",
      "metadata": {
        "id": "yq2Gfc6H3xQy",
        "colab_type": "text"
      },
      "source": [
        "Training our model, minimizing the cost function, using for loop\n",
        "\n"
      ]
    },
    {
      "cell_type": "code",
      "metadata": {
        "id": "S7lG97WDz9ND",
        "colab_type": "code",
        "outputId": "1276e865-a395-4612-da68-490773607022",
        "colab": {
          "base_uri": "https://localhost:8080/",
          "height": 34
        }
      },
      "source": [
        "b = 0\n",
        "list_of_b = []\n",
        "for i in range(100):\n",
        "  b = b - alpha * slope(b)\n",
        "  list_of_b.append(round(b,3))\n",
        "print(list_of_b[0:20])"
      ],
      "execution_count": 0,
      "outputs": [
        {
          "output_type": "stream",
          "text": [
            "[0.8, 1.44, 1.952, 2.362, 2.689, 2.951, 3.161, 3.329, 3.463, 3.571, 3.656, 3.725, 3.78, 3.824, 3.859, 3.887, 3.91, 3.928, 3.942, 3.954]\n"
          ],
          "name": "stdout"
        }
      ]
    },
    {
      "cell_type": "markdown",
      "metadata": {
        "id": "5g8bGiyZ4Bbg",
        "colab_type": "text"
      },
      "source": [
        "##Example 2\n",
        "\n",
        "Example of linear regression using data of the video: [Beginner Intro to Neural Networks 8: Linear Regression](https://www.youtube.com/watch?v=GwVTM28HKYk)"
      ]
    },
    {
      "cell_type": "code",
      "metadata": {
        "id": "HfElP_RK6A7c",
        "colab_type": "code",
        "outputId": "90338792-a7a8-453b-f9be-a121d3f0f499",
        "colab": {
          "base_uri": "https://localhost:8080/",
          "height": 68
        }
      },
      "source": [
        "data = [1,2,4]\n",
        "label = [2,4,5]\n",
        "w = 0.25\n",
        "b = 0.68\n",
        "\n",
        "for i in data:\n",
        "  wangs = w * i + b\n",
        "  print(round(wangs,3))\n"
      ],
      "execution_count": 0,
      "outputs": [
        {
          "output_type": "stream",
          "text": [
            "0.93\n",
            "1.18\n",
            "1.68\n"
          ],
          "name": "stdout"
        }
      ]
    }
  ]
}